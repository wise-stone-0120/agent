{
 "cells": [
  {
   "cell_type": "markdown",
   "id": "ccbca753",
   "metadata": {},
   "source": [
    "# The OpenAI Agent SDK\n",
    "The documentation: https://openai.github.io/openai-agents-python/"
   ]
  },
  {
   "cell_type": "code",
   "execution_count": null,
   "id": "f3e490bd",
   "metadata": {},
   "outputs": [],
   "source": [
    "# 필요하면 openai agent 모듈부터 설치\n",
    "%pip install openai-agents"
   ]
  },
  {
   "cell_type": "code",
   "execution_count": null,
   "id": "d066ab49",
   "metadata": {},
   "outputs": [],
   "source": [
    "# imports\n",
    "from dotenv import load_dotenv\n",
    "from agents import Agent, Runner, trace"
   ]
  },
  {
   "cell_type": "code",
   "execution_count": null,
   "id": "69455d77",
   "metadata": {},
   "outputs": [],
   "source": [
    "# 언제나 그렇듯이 환경 변수 로드\n",
    "load_dotenv(override=True)"
   ]
  },
  {
   "cell_type": "code",
   "execution_count": null,
   "id": "b70fb172",
   "metadata": {},
   "outputs": [],
   "source": [
    "# agent 하나 만들자. \n",
    "# name, instructions, model 설정하고\n",
    "agent = Agent(name=\"Jokester\", instructions=\"You are a joke teller\", model=\"gpt-4o-mini\")"
   ]
  },
  {
   "cell_type": "code",
   "execution_count": null,
   "id": "240a588f",
   "metadata": {},
   "outputs": [],
   "source": [
    "# agent 실행은 run.runner\n",
    "with trace(\"telling a joke\"):\n",
    "    result = await Runner.run(agent, \"Tell a joke about Donald Trump\")\n",
    "    print(result.final_output)"
   ]
  },
  {
   "cell_type": "markdown",
   "id": "50603254",
   "metadata": {},
   "source": [
    "## Trace\n",
    "openai trace: \"telling a joke\" trace는 여기에서 확인 가능.  \n",
    "https://platform.openai.com/traces"
   ]
  }
 ],
 "metadata": {
  "kernelspec": {
   "display_name": ".venv",
   "language": "python",
   "name": "python3"
  },
  "language_info": {
   "codemirror_mode": {
    "name": "ipython",
    "version": 3
   },
   "file_extension": ".py",
   "mimetype": "text/x-python",
   "name": "python",
   "nbconvert_exporter": "python",
   "pygments_lexer": "ipython3",
   "version": "3.13.2"
  }
 },
 "nbformat": 4,
 "nbformat_minor": 5
}

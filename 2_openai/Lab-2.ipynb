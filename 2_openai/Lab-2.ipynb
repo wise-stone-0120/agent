{
 "cells": [
  {
   "cell_type": "markdown",
   "id": "1fc4fd2a",
   "metadata": {},
   "source": [
    "# Simple Agentic Framework system\n",
    "generating cold sales outreach emails (?)  \n",
    "뭐하는 거지?\n",
    "\n",
    "## Setup\n",
    "- Sendgrid: https://sendgrid.com/  \n",
    "Twilio의 메시지 전송 website.\n",
    "- Sendgrid에서 api key 작성  \n",
    "SENDGRID_API_KEY=SG.\n",
    "- sender authentication에서 이메일 검증 등록"
   ]
  },
  {
   "cell_type": "code",
   "execution_count": null,
   "metadata": {},
   "outputs": [],
   "source": [
    "# sendgrid 모듈 등록\n",
    "%pip install sendgrid"
   ]
  },
  {
   "cell_type": "code",
   "execution_count": null,
   "id": "fbf0f59c",
   "metadata": {},
   "outputs": [],
   "source": [
    "# 이메일 테스트 함 해봐\n",
    "from dotenv import load_dotenv\n",
    "from agents import Agent, Runner, trace, function_tool\n",
    "from openai.types.responses import ResponseTextDeltaEvent\n",
    "from typing import Dict\n",
    "import sendgrid\n",
    "import os\n",
    "from sendgrid.helpers.mail import Mail, Email, To, Content\n",
    "import asyncio"
   ]
  },
  {
   "cell_type": "code",
   "execution_count": null,
   "id": "f4a00607",
   "metadata": {},
   "outputs": [],
   "source": [
    "load_dotenv(override = True)"
   ]
  },
  {
   "cell_type": "code",
   "execution_count": null,
   "id": "9f840860",
   "metadata": {},
   "outputs": [],
   "source": [
    "# 이메일 보내기가 될라나?\n",
    "# 요거 잘 안됨. 다음 장애 나오는데 해결이 안되네.\n",
    "#      URLError: <urlopen error [SSL: CERTIFICATE_VERIFY_FAILED] certificate verify failed: self-signed certificate in certificate chain (_ssl.c:1028)>\n",
    "def send_test_email():\n",
    "    sg = sendgrid.SendGridAPIClient(api_key=os.environ.get('SENDGRID_API_KEY'))\n",
    "    from_email = Email(\"dinokrap@gmail.com\")\n",
    "    to_email = To(\"g1.systemswteam@gmail.com\")\n",
    "    content = Content(\"text/plain\", \"This is very important test email using sendgrid\")\n",
    "    mail = Mail(from_email, to_email, \"SendGrid Email from Agents\", content).get()\n",
    "    response = sg.client.mail.send.post(request_body=mail)\n",
    "    print(response.status_code)\n",
    "\n",
    "send_test_email()"
   ]
  },
  {
   "cell_type": "markdown",
   "id": "067f71f9",
   "metadata": {},
   "source": [
    "## resend.com\n",
    "sendgrid로 메일 보내기가 잘 되지 않음. 대안으로 resend.com으로 다시 한번 해보기.  \n",
    "dinokrap으로 signin하고. 보낼 도메인을 확인하라고 한다. 나는 일단 domain은 갖고 있지 않으므로, resend의 도메인으로 한다."
   ]
  },
  {
   "cell_type": "code",
   "execution_count": null,
   "id": "2bd98b17",
   "metadata": {},
   "outputs": [],
   "source": [
    "# pip로 resend 모듈은 설치하고\n",
    "%pip install resend"
   ]
  },
  {
   "cell_type": "code",
   "execution_count": null,
   "id": "3ec7d187",
   "metadata": {},
   "outputs": [],
   "source": [
    "import os\n",
    "import resend\n",
    "from dotenv import load_dotenv\n",
    "\n",
    "# 언제나 그렇듯이 환경 변수 로드\n",
    "load_dotenv(override=True)\n",
    "\n",
    "resend.api_key = os.getenv(\"RESEND_API_KEY\")\n",
    "params: resend.Emails.SendParams = {\n",
    "    \"from\": \"Acme <onboarding@resend.dev>\",\n",
    "    \"to\": \"dinokrap@gmail.com\",\n",
    "    \"subject\": \"Hello from visual code using resend\",\n",
    "    \"html\": \"<p>This is an email sending test from vscode. <strong>Do you see it?</strong></p>\"\n",
    "}\n",
    "\n",
    "email = resend.Emails.send(params)\n",
    "print(email)"
   ]
  },
  {
   "cell_type": "markdown",
   "id": "6ef7036d",
   "metadata": {},
   "source": [
    "Resend는 메일 보내기 성공함.  \n",
    "해서 Resend로 본 코드 작성 시작.  \n",
    "## Simple Agentic AI Framework"
   ]
  },
  {
   "cell_type": "code",
   "execution_count": null,
   "id": "aa16f6cc",
   "metadata": {},
   "outputs": [],
   "source": [
    "# 처음부터 다시\n",
    "# import\n",
    "from dotenv import load_dotenv\n",
    "from agents import Agent, Runner, trace, function_tool\n",
    "from openai.types.responses import ResponseTextDeltaEvent\n",
    "from typing import Dict\n",
    "import resend\n",
    "import os\n",
    "import asyncio"
   ]
  },
  {
   "cell_type": "code",
   "execution_count": null,
   "id": "e2e6b1f7",
   "metadata": {},
   "outputs": [],
   "source": [
    "# 언제나 그렇듯이\n",
    "load_dotenv(override = True)"
   ]
  },
  {
   "cell_type": "code",
   "execution_count": null,
   "id": "f14d64e9",
   "metadata": {},
   "outputs": [],
   "source": [
    "# 이메일 보내기 테스트\n",
    "def send_email():\n",
    "    resend.api_key = os.getenv(\"RESEND_API_KEY\")\n",
    "    params: resend.Emails.SendParams = {\n",
    "    \"from\": \"Acme <onboarding@resend.dev>\",\n",
    "    \"to\": \"dinokrap@gmail.com\",\n",
    "    \"subject\": \"Hello from visual code using resend\",\n",
    "    \"html\": \"<p>This is an email sending test from vscode. <strong>Do you see it?</strong></p>\"\n",
    "    }\n",
    "    email = resend.Emails.send(params)\n",
    "\n",
    "send_email()"
   ]
  },
  {
   "cell_type": "code",
   "execution_count": null,
   "id": "25049262",
   "metadata": {},
   "outputs": [],
   "source": [
    "# Agent workflow\n",
    "# 각 agent에 전달할 instruction 작성하고,\n",
    "instruction1 = \"You are a sales agent working for ComlAI, \\\n",
    "    a company that provides a SaaS tool for ensuring SOC2 compliance and preparing for aduits, powered by AI. \\\n",
    "    You write professional, serious cold emails.\"\n",
    "instruction2 = \"You are a humorous, engaing sales agent working for CompAI, \\\n",
    "    a company that provides a Saas tool for ensuring SOC2 compliance and preparing for audits, powered by AI. \\\n",
    "    You write witty, engaging cold emails that are likely to get a response.\"\n",
    "instruction3 = \"You are busy sales agent working for ComlAI, \\\n",
    "    a company that provides a SaaS tool for ensuring SOC2 compliance and preparing for audits, powered by AI. \\\n",
    "    You write concise, to the point cold emails.\""
   ]
  },
  {
   "cell_type": "code",
   "execution_count": null,
   "id": "93acdda9",
   "metadata": {},
   "outputs": [],
   "source": [
    "# 3개의 각 agent 인스턴스를 생성\n",
    "sales_agent1 = Agent(\n",
    "    name = \"Professional Sales Agent\",\n",
    "    instructions=instruction1,\n",
    "    model=\"gpt-4o-mini\"\n",
    ")\n",
    "sales_agent2 = Agent(\n",
    "    name=\"Engaging Sales Agent\",\n",
    "    instructions=instruction2,\n",
    "    model=\"gpt-4o-mini\"\n",
    ")\n",
    "sales_agent3 = Agent(\n",
    "    name=\"Busy Sales Agent\",\n",
    "    instructions=instruction3,\n",
    "    model=\"gpt-4o-mini\"\n",
    ")"
   ]
  },
  {
   "cell_type": "code",
   "execution_count": null,
   "id": "e6c4fc93",
   "metadata": {},
   "outputs": [],
   "source": [
    "# 테스트로 agent #1을 실행하는데,\n",
    "# run_streamed명령으로 생성하는 족족 결과를 실시간으로 받는다.\n",
    "# 그래서 async for를 사용하고, stream_events를 실행해서 LLM이 만드는 모든 이벤트를 받는다.\n",
    "result = Runner.run_streamed(sales_agent1, input=\"write a cold sales email\")\n",
    "async for event in result.stream_events():\n",
    "    if event.type == \"raw_response_event\" and isinstance(event.data, ResponseTextDeltaEvent):\n",
    "        print(event.data.delta, end=\"\", flush=True)"
   ]
  },
  {
   "cell_type": "code",
   "execution_count": null,
   "id": "24124de9",
   "metadata": {},
   "outputs": [],
   "source": [
    "# 이번에는 3개 agent를 한번에 실행하고,리턴 받는다.\n",
    "message = \"Write a cold sales email\"\n",
    "\n",
    "with trace(\"Parallel cold emails\"):\n",
    "    results = await asyncio.gather(\n",
    "        Runner.run(sales_agent1, message),\n",
    "        Runner.run(sales_agent2, message),\n",
    "        Runner.run(sales_agent3, message)\n",
    "    )\n",
    "\n",
    "outputs = [result.final_output for result in results]\n",
    "\n",
    "for output in outputs:\n",
    "    print(output, \"\\n\\n\")"
   ]
  },
  {
   "cell_type": "code",
   "execution_count": null,
   "id": "3c00fd63",
   "metadata": {},
   "outputs": [],
   "source": [
    "# sales picker : agent. 다른 agnet들이 쓴 이메일을 평가한다.\n",
    "# instruction\n",
    "instruction_sales_picker = \"You pick the best cold sale email from the given options. \\\n",
    "    Imaginge you are a customer and pick a one you are mostly likely to respond to. \\\n",
    "    Do not give an explanation; reply with the selected email only.\"\n",
    "# agent 인스턴스 생성\n",
    "sales_picker_agent = Agent(\n",
    "    name=\"sales pikcer\",\n",
    "    instructions=instruction_sales_picker,\n",
    "    model=\"gpt-4o-mini\"\n",
    ")"
   ]
  },
  {
   "cell_type": "code",
   "execution_count": null,
   "id": "0f8e885c",
   "metadata": {},
   "outputs": [],
   "source": [
    "message = \"Write a cold sales email\"\n",
    "with trace(\"selection from sales people\"):\n",
    "    results = await asyncio.gather(\n",
    "        Runner.run(sales_agent1, message),\n",
    "        Runner.run(sales_agent2, message),\n",
    "        Runner.run(sales_agent3, message)\n",
    "    )\n",
    "    outputs = [result.final_output for result in results]\n",
    "    emails = \"Cold sales emails: \\n\\n\".join(outputs)\n",
    "    best = await Runner.run(sales_picker_agent, emails)\n",
    "    print(f\"Best sales email: \\n{best.final_output}\")"
   ]
  },
  {
   "cell_type": "markdown",
   "id": "5c9f86e6",
   "metadata": {},
   "source": [
    "*Simple agentic system*  \n",
    "이렇게 agent들에게 cold sales email 작성을 시키고  \n",
    "요 이메일들을 pick하는 agent를 생성하고, pick 시키고  \n",
    "이제 실행한 trace를 살펴보라. 사이트는 아래.  \n",
    "https://platform.openai.com/traces"
   ]
  },
  {
   "cell_type": "markdown",
   "id": "5eabf651",
   "metadata": {},
   "source": [
    "## Use of tools\n",
    "기본 agentic framework에 tool을 추가할 거야."
   ]
  },
  {
   "cell_type": "code",
   "execution_count": null,
   "id": "552b90a0",
   "metadata": {},
   "outputs": [],
   "source": [
    "# 먼저 agent들을 다시 생성해 보자\n",
    "sales_agent1 = Agent(\n",
    "    name=\"Professional Sales Agent\",\n",
    "    instructions=instruction1,\n",
    "    model=\"gpt-4o-mini\"\n",
    ")\n",
    "sales_agent2 = Agent(\n",
    "    name=\"Engaging Sales Agent\",\n",
    "    instructions=instruction2,\n",
    "    model=\"gpt-4o-mini\"\n",
    ")\n",
    "sales_agent3 = Agent(\n",
    "    name=\"Busy Sales Agent\",\n",
    "    instructions=instruction3,\n",
    "    model=\"gpt-4o-mini\"\n",
    ")"
   ]
  },
  {
   "cell_type": "code",
   "execution_count": null,
   "id": "b3499090",
   "metadata": {},
   "outputs": [],
   "source": [
    "# agent는 요렇게 생겼다.\n",
    "sales_agent1\n",
    "# Agent(\n",
    "# name='Professional Sales Agent', \n",
    "# handoff_description=None, \n",
    "# tools=[], \n",
    "# mcp_servers=[], \n",
    "# mcp_config={}, \n",
    "# instructions='You are a sales agent working for ComlAI,     a company that provides a SaaS tool for ensuring SOC2 compliance and preparing for aduits, powered by AI.     You write professional, serious cold emails.', \n",
    "# prompt=None, \n",
    "# handoffs=[], \n",
    "# model='gpt-4o-mini', \n",
    "# model_settings=ModelSettings(temperature=None, top_p=None, frequency_penalty=None, presence_penalty=None, tool_choice=None, parallel_tool_calls=None, truncation=None, max_tokens=None, reasoning=None, metadata=None, store=None, include_usage=None, response_include=None, extra_query=None, extra_body=None, extra_headers=None, extra_args=None), \n",
    "# input_guardrails=[], \n",
    "# output_guardrails=[], \n",
    "# output_type=None, \n",
    "# hooks=None, \n",
    "# tool_use_behavior='run_llm_again', \n",
    "# reset_tool_choice=True)"
   ]
  },
  {
   "cell_type": "code",
   "execution_count": null,
   "id": "aee3211d",
   "metadata": {},
   "outputs": [],
   "source": [
    "# tool : function tool\n",
    "@function_tool\n",
    "def send_email(body: str):\n",
    "    \"\"\" Send out an email with the given body to all sales prospects \"\"\"\n",
    "    resend.api_key=os.getenv(\"RESEND_API_KEY\")\n",
    "    params: resend.Emails.SendParams = {\n",
    "        \"from\": \"Acme <onboarding@resend.dev>\",\n",
    "        \"to\": \"dinokrap@gmail.com\",\n",
    "        \"subject\": \"Sales Email\",\n",
    "        \"html\": body\n",
    "    }\n",
    "    email = resend.Emails.send(params)\n",
    "    return {\"status\":\"success\"}"
   ]
  },
  {
   "cell_type": "code",
   "execution_count": null,
   "id": "07a2936b",
   "metadata": {},
   "outputs": [],
   "source": [
    "# send_email은 어떻게 생겼나?\n",
    "send_email\n",
    "# FunctionTool(\n",
    "# name='send_email', \n",
    "# description='Send out an email with the given body to all sales prospects', \n",
    "# params_json_schema={'properties': {'body': {'title': 'Body', 'type': 'string'}}, 'required': ['body'], 'title': 'send_email_args', 'type': 'object', 'additionalProperties': False}, \n",
    "# on_invoke_tool=<function function_tool.<locals>._create_function_tool.<locals>._on_invoke_tool at 0x0000012A7272C7C0>, \n",
    "# strict_json_schema=True, \n",
    "# is_enabled=True)"
   ]
  },
  {
   "cell_type": "code",
   "execution_count": null,
   "id": "8c256b80",
   "metadata": {},
   "outputs": [],
   "source": [
    "# agent를 tool로 변환\n",
    "tool1 = sales_agent1.as_tool(\n",
    "    tool_name=\"sales_agent1\",\n",
    "    tool_description=\"Write a cold sales email\"\n",
    ")\n",
    "# 나머지 agent들도 tool로 변환\n",
    "tool2 = sales_agent2.as_tool(\n",
    "    tool_name=\"sales_agent2\",\n",
    "    tool_description=\"Write a cold sales email\"\n",
    ")\n",
    "tool3 = sales_agent3.as_tool(\n",
    "    tool_name=\"sales_agent3\",\n",
    "    tool_description=\"Write a cold sales email\"\n",
    ")"
   ]
  },
  {
   "cell_type": "code",
   "execution_count": null,
   "id": "5bed8b87",
   "metadata": {},
   "outputs": [],
   "source": [
    "# agent tool은 어떻게 생겼나? function tool하고 똑같이 생겼다.\n",
    "tool1\n",
    "# FunctionTool(\n",
    "# name='sales_agent1', \n",
    "# description='Write a cold sales email', \n",
    "# params_json_schema={'properties': {'input': {'title': 'Input', 'type': 'string'}}, 'required': ['input'], 'title': 'sales_agent1_args', 'type': 'object', 'additionalProperties': False}, \n",
    "# on_invoke_tool=<function function_tool.<locals>._create_function_tool.<locals>._on_invoke_tool at 0x0000012A79BA6200>, \n",
    "# strict_json_schema=True, \n",
    "# is_enabled=True)\n",
    "\n",
    "# 이제 리스트로 tool을 넣자\n",
    "tools = [tool1, tool2, tool3, send_email]\n",
    "tools"
   ]
  },
  {
   "cell_type": "code",
   "execution_count": null,
   "id": "20792a97",
   "metadata": {},
   "outputs": [],
   "source": [
    "# 이제 tool들을 사용할 agent. sales_manager agent를 만들자.\n",
    "instruction_sales_manager = \"You are a sales manager working for ComplAI. You use the tools given to you to write a cold sales email. \\\n",
    "    You never write a sales email yourself; you always use the tools. \\\n",
    "    You try all 3 sales_agent tools once before picking the best one. \\\n",
    "    You choose the single best email and use the send_email tool to send the best email (and only the best email) to the user.\"\n",
    "\n",
    "sales_manager = Agent(\n",
    "    name=\"Sales Manager\",\n",
    "    instructions=instruction_sales_manager,\n",
    "    tools=tools,\n",
    "    model=\"gpt-4o-mini\"\n",
    ")\n",
    "\n",
    "message = \"Send a cold sales email addressed to 'Dear CEO'\"\n",
    "with trace(\"Sales Manager\"):\n",
    "    result = await Runner.run(sales_manager, message)"
   ]
  },
  {
   "cell_type": "markdown",
   "id": "68596add",
   "metadata": {},
   "source": [
    "다시 trace를 체크할 시간  \n",
    "https://platform.openai.com/traces"
   ]
  },
  {
   "cell_type": "markdown",
   "id": "47098023",
   "metadata": {},
   "source": [
    "## Handoffs\n",
    "Handoffs 하고 Agent-as-tools는 서로 비슷. 모두 agent가 다른 agent와 같이 일하는 방법.  \n",
    "다른 점은 tools는 control을 다시 받아오고 (manager agent로)  \n",
    "handoffs는 control을 넘겨주고 안 받아온다."
   ]
  },
  {
   "cell_type": "code",
   "execution_count": null,
   "id": "3fe16904",
   "metadata": {},
   "outputs": [],
   "source": [
    "# 여기서는 email subject 쓰는 agent, txt email body를 html body로 변환하는 agent를 만들고,\n",
    "# 다시 tool로 변환할 거야.\n",
    "\n",
    "# mail subject agent\n",
    "subject_instructions = \"You can write a subject for a cold sales email. \\\n",
    "    You are given a message and you need to write a subject for an email that is likely to get a response.\"\n",
    "subject_agent = Agent(\n",
    "    name=\"Email Subject Writer\",\n",
    "    instructions=subject_instructions,\n",
    "    model=\"gpt-4o-mini\"\n",
    ")\n",
    "subject_tool = subject_agent.as_tool(\n",
    "    tool_name=\"subject_writer\",\n",
    "    tool_description=\"Write a subject for a cold sales email\"\n",
    ")\n",
    "\n",
    "# html converter agent\n",
    "html_instruction = \"You can conver a text email body to a html email body. \\\n",
    "    You are given a text email body which might have some markdown \\\n",
    "    and you need to convert it to an HTML email body with simple, clear, compelling layout and design.\"\n",
    "html_converter = Agent(\n",
    "    name=\"HTML email body converter\",\n",
    "    instructions=html_instruction,\n",
    "    model=\"gpt-4o-mini\"\n",
    ")\n",
    "html_tool = html_converter.as_tool(\n",
    "    tool_name=\"html_converter\",\n",
    "    tool_description=\"Convert a text email body to an HTML email body\"\n",
    ")"
   ]
  },
  {
   "cell_type": "code",
   "execution_count": 34,
   "id": "31523a02",
   "metadata": {},
   "outputs": [],
   "source": [
    "# function tool : 메일 보내는 function tool\n",
    "@function_tool\n",
    "def send_html_email(subject:str, html_body:str) -> Dict[str, str]:\n",
    "    \"\"\" Send out an email with the given subject and html body to all sales prospects \"\"\"\n",
    "    resend.api_key=os.getenv(\"RESEND_API_KEY\")\n",
    "    params: resend.Emails.SendParams = {\n",
    "        \"from\": \"Acme <onboarding@resend.dev>\",\n",
    "        \"to\": \"dinokrap@gmail.com\",\n",
    "        \"subject\": subject,\n",
    "        \"html\": html_body\n",
    "    }\n",
    "    email = resend.Emails.send(params)\n",
    "    return {\"status\":\"success\"}"
   ]
  },
  {
   "cell_type": "code",
   "execution_count": 35,
   "id": "876cd93f",
   "metadata": {},
   "outputs": [],
   "source": [
    "tools = [subject_tool, html_tool, send_html_email]"
   ]
  },
  {
   "cell_type": "code",
   "execution_count": 36,
   "id": "a20c7619",
   "metadata": {},
   "outputs": [],
   "source": [
    "# handoff agent를 정의 <- Manager agent에게서 넘겨받을거야.\n",
    "emailer_instructions = \"You are an email formatter and sender. You receive a body of an email to be sent. \\\n",
    "    You first use the subject_writer tool to write a subject for the email, then use the html_converter to convert the body to HTML. \\\n",
    "    Finally, you use the send_html_email tool to send the email with the subject and HTML body.\"\n",
    "emailer_agent = Agent(\n",
    "    name=\"Email Formatter\",\n",
    "    instructions=emailer_instructions,\n",
    "    tools=tools,\n",
    "    model=\"gpt-4o-mini\",\n",
    "    handoff_description=\"Convert an email to HTML and send it\"\n",
    ")"
   ]
  },
  {
   "cell_type": "code",
   "execution_count": 37,
   "id": "01aba0a2",
   "metadata": {},
   "outputs": [],
   "source": [
    "# 자, 이제 Email Manager를 다시 정의해야지.\n",
    "tools = [tool1, tool2, tool3]\n",
    "handoffs = [emailer_agent]\n",
    "\n",
    "sales_manager_instructions = \"You are a sales manager working for ComplAI. You use the tools given to you to generate cold sales emails. \\\n",
    "    You never generate sales email yourself; you always use the tools. \\\n",
    "    You try all 3 sales agent tools at least once before choosing the best one. \\\n",
    "    You can use the tools multiple times if you're not satisfied with the results from the first try. \\\n",
    "    You select single best email using your own judgement of which email will be the most effective. \\\n",
    "    After picking the email, you handoff to the Email Formatter agent to format and send the email.\"\n",
    "\n",
    "sales_manager = Agent(\n",
    "    name=\"Sales Manager\",\n",
    "    instructions=sales_manager_instructions,\n",
    "    tools=tools,\n",
    "    handoffs=handoffs,\n",
    "    model=\"gpt-4o-mini\"\n",
    ")\n",
    "\n",
    "message = \"Send out a cold sales email addressed to Dear CEO from Alice\"\n",
    "\n",
    "with trace(\"Automated SDR\"):\n",
    "    result = await Runner.run(sales_manager, message)"
   ]
  },
  {
   "cell_type": "markdown",
   "id": "1a3b7915",
   "metadata": {},
   "source": [
    "이번에도 trace를 살펴봐야지.  \n",
    "https://platform.openai.com/traces"
   ]
  }
 ],
 "metadata": {
  "kernelspec": {
   "display_name": ".venv",
   "language": "python",
   "name": "python3"
  },
  "language_info": {
   "codemirror_mode": {
    "name": "ipython",
    "version": 3
   },
   "file_extension": ".py",
   "mimetype": "text/x-python",
   "name": "python",
   "nbconvert_exporter": "python",
   "pygments_lexer": "ipython3",
   "version": "3.13.2"
  }
 },
 "nbformat": 4,
 "nbformat_minor": 5
}

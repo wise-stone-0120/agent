{
 "cells": [
  {
   "cell_type": "markdown",
   "id": "1fc4fd2a",
   "metadata": {},
   "source": [
    "# Simple Agentic Framework system\n",
    "generating cold sales outreach emails (?)  \n",
    "뭐하는 거지?\n",
    "\n",
    "## Setup\n",
    "- Sendgrid: https://sendgrid.com/  \n",
    "Twilio의 메시지 전송 website.\n",
    "- Sendgrid에서 api key 작성  \n",
    "SENDGRID_API_KEY=SG.\n",
    "- sender authentication에서 이메일 검증 등록"
   ]
  },
  {
   "cell_type": "code",
   "execution_count": null,
   "metadata": {},
   "outputs": [],
   "source": [
    "# sendgrid 모듈 등록\n",
    "%pip install sendgrid"
   ]
  },
  {
   "cell_type": "code",
   "execution_count": null,
   "id": "fbf0f59c",
   "metadata": {},
   "outputs": [],
   "source": [
    "# 이메일 테스트 함 해봐\n",
    "from dotenv import load_dotenv\n",
    "from agents import Agent, Runner, trace, function_tool\n",
    "from openai.types.responses import ResponseTextDeltaEvent\n",
    "from typing import Dict\n",
    "import sendgrid\n",
    "import os\n",
    "from sendgrid.helpers.mail import Mail, Email, To, Content\n",
    "import asyncio"
   ]
  },
  {
   "cell_type": "code",
   "execution_count": null,
   "id": "f4a00607",
   "metadata": {},
   "outputs": [],
   "source": [
    "load_dotenv(override = True)"
   ]
  },
  {
   "cell_type": "code",
   "execution_count": null,
   "id": "9f840860",
   "metadata": {},
   "outputs": [],
   "source": [
    "# 이메일 보내기가 될라나?\n",
    "# 요거 잘 안됨. 다음 장애 나오는데 해결이 안되네.\n",
    "#      URLError: <urlopen error [SSL: CERTIFICATE_VERIFY_FAILED] certificate verify failed: self-signed certificate in certificate chain (_ssl.c:1028)>\n",
    "def send_test_email():\n",
    "    sg = sendgrid.SendGridAPIClient(api_key=os.environ.get('SENDGRID_API_KEY'))\n",
    "    from_email = Email(\"dinokrap@gmail.com\")\n",
    "    to_email = To(\"g1.systemswteam@gmail.com\")\n",
    "    content = Content(\"text/plain\", \"This is very important test email using sendgrid\")\n",
    "    mail = Mail(from_email, to_email, \"SendGrid Email from Agents\", content).get()\n",
    "    response = sg.client.mail.send.post(request_body=mail)\n",
    "    print(response.status_code)\n",
    "\n",
    "send_test_email()"
   ]
  }
 ],
 "metadata": {
  "kernelspec": {
   "display_name": ".venv",
   "language": "python",
   "name": "python3"
  },
  "language_info": {
   "codemirror_mode": {
    "name": "ipython",
    "version": 3
   },
   "file_extension": ".py",
   "mimetype": "text/x-python",
   "name": "python",
   "nbconvert_exporter": "python",
   "pygments_lexer": "ipython3",
   "version": "3.13.2"
  }
 },
 "nbformat": 4,
 "nbformat_minor": 5
}

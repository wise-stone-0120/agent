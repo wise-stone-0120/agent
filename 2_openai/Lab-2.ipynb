{
 "cells": [
  {
   "cell_type": "markdown",
   "id": "1fc4fd2a",
   "metadata": {},
   "source": [
    "# Simple Agentic Framework system\n",
    "generating cold sales outreach emails (?)  \n",
    "뭐하는 거지?\n",
    "\n",
    "## Setup\n",
    "- Sendgrid: https://sendgrid.com/  \n",
    "Twilio의 메시지 전송 website.\n",
    "- Sendgrid에서 api key 작성  \n",
    "SENDGRID_API_KEY=SG.\n",
    "- sender authentication에서 이메일 검증 등록"
   ]
  },
  {
   "cell_type": "code",
   "execution_count": null,
   "metadata": {},
   "outputs": [],
   "source": [
    "# sendgrid 모듈 등록\n",
    "%pip install sendgrid"
   ]
  },
  {
   "cell_type": "code",
   "execution_count": null,
   "id": "fbf0f59c",
   "metadata": {},
   "outputs": [],
   "source": [
    "# 이메일 테스트 함 해봐\n",
    "from dotenv import load_dotenv\n",
    "from agents import Agent, Runner, trace, function_tool\n",
    "from openai.types.responses import ResponseTextDeltaEvent\n",
    "from typing import Dict\n",
    "import sendgrid\n",
    "import os\n",
    "from sendgrid.helpers.mail import Mail, Email, To, Content\n",
    "import asyncio"
   ]
  },
  {
   "cell_type": "code",
   "execution_count": null,
   "id": "f4a00607",
   "metadata": {},
   "outputs": [],
   "source": [
    "load_dotenv(override = True)"
   ]
  },
  {
   "cell_type": "code",
   "execution_count": null,
   "id": "9f840860",
   "metadata": {},
   "outputs": [],
   "source": [
    "# 이메일 보내기가 될라나?\n",
    "# 요거 잘 안됨. 다음 장애 나오는데 해결이 안되네.\n",
    "#      URLError: <urlopen error [SSL: CERTIFICATE_VERIFY_FAILED] certificate verify failed: self-signed certificate in certificate chain (_ssl.c:1028)>\n",
    "def send_test_email():\n",
    "    sg = sendgrid.SendGridAPIClient(api_key=os.environ.get('SENDGRID_API_KEY'))\n",
    "    from_email = Email(\"dinokrap@gmail.com\")\n",
    "    to_email = To(\"g1.systemswteam@gmail.com\")\n",
    "    content = Content(\"text/plain\", \"This is very important test email using sendgrid\")\n",
    "    mail = Mail(from_email, to_email, \"SendGrid Email from Agents\", content).get()\n",
    "    response = sg.client.mail.send.post(request_body=mail)\n",
    "    print(response.status_code)\n",
    "\n",
    "send_test_email()"
   ]
  },
  {
   "cell_type": "markdown",
   "id": "067f71f9",
   "metadata": {},
   "source": [
    "## resend.com\n",
    "sendgrid로 메일 보내기가 잘 되지 않음. 대안으로 resend.com으로 다시 한번 해보기.  \n",
    "dinokrap으로 signin하고. 보낼 도메인을 확인하라고 한다. 나는 일단 domain은 갖고 있지 않으므로, resend의 도메인으로 한다."
   ]
  },
  {
   "cell_type": "code",
   "execution_count": null,
   "id": "2bd98b17",
   "metadata": {},
   "outputs": [],
   "source": [
    "# pip로 resend 모듈은 설치하고\n",
    "%pip install resend"
   ]
  },
  {
   "cell_type": "code",
   "execution_count": null,
   "id": "3ec7d187",
   "metadata": {},
   "outputs": [],
   "source": [
    "import os\n",
    "import resend\n",
    "from dotenv import load_dotenv\n",
    "\n",
    "# 언제나 그렇듯이 환경 변수 로드\n",
    "load_dotenv(override=True)\n",
    "\n",
    "resend.api_key = os.getenv(\"RESEND_API_KEY\")\n",
    "params: resend.Emails.SendParams = {\n",
    "    \"from\": \"Acme <onboarding@resend.dev>\",\n",
    "    \"to\": \"dinokrap@gmail.com\",\n",
    "    \"subject\": \"Hello from visual code using resend\",\n",
    "    \"html\": \"<p>This is an email sending test from vscode. <strong>Do you see it?</strong></p>\"\n",
    "}\n",
    "\n",
    "email = resend.Emails.send(params)\n",
    "print(email)"
   ]
  },
  {
   "cell_type": "markdown",
   "id": "6ef7036d",
   "metadata": {},
   "source": [
    "## Resend는 메일 보내기 성공함.\n",
    "해서 Resend로 본 코드 작성 시작."
   ]
  },
  {
   "cell_type": "code",
   "execution_count": null,
   "id": "aa16f6cc",
   "metadata": {},
   "outputs": [],
   "source": [
    "# 처음부터 다시\n",
    "# import\n",
    "from dotenv import load_dotenv\n",
    "from agents import Agent, Runner, trace, function_tool\n",
    "from openai.types.responses import ResponseTextDeltaEvent\n",
    "from typing import Dict\n",
    "import resend\n",
    "import os\n",
    "import asyncio"
   ]
  },
  {
   "cell_type": "code",
   "execution_count": null,
   "id": "e2e6b1f7",
   "metadata": {},
   "outputs": [],
   "source": [
    "# 언제나 그렇듯이\n",
    "load_dotenv(override = True)"
   ]
  },
  {
   "cell_type": "code",
   "execution_count": null,
   "id": "f14d64e9",
   "metadata": {},
   "outputs": [],
   "source": [
    "# 이메일 보내기 테스트\n",
    "def send_email():\n",
    "    resend.api_key = os.getenv(\"RESEND_API_KEY\")\n",
    "    params: resend.Emails.SendParams = {\n",
    "    \"from\": \"Acme <onboarding@resend.dev>\",\n",
    "    \"to\": \"dinokrap@gmail.com\",\n",
    "    \"subject\": \"Hello from visual code using resend\",\n",
    "    \"html\": \"<p>This is an email sending test from vscode. <strong>Do you see it?</strong></p>\"\n",
    "    }\n",
    "    email = resend.Emails.send(params)\n",
    "\n",
    "send_email()"
   ]
  },
  {
   "cell_type": "code",
   "execution_count": null,
   "id": "25049262",
   "metadata": {},
   "outputs": [],
   "source": [
    "# Agent workflow\n",
    "# 각 agent에 전달할 instruction 작성하고,\n",
    "instruction1 = \"You are a sales agent working for ComlAI, \\\n",
    "    a company that provides a SaaS tool for ensuring SOC2 compliance and preparing for aduits, powered by AI. \\\n",
    "    You write professional, serious cold emails.\"\n",
    "instruction2 = \"You are a humorous, engaing sales agent working for CompAI, \\\n",
    "    a company that provides a Saas tool for ensuring SOC2 compliance and preparing for audits, powered by AI. \\\n",
    "    You write witty, engaging cold emails that are likely to get a response.\"\n",
    "instruction3 = \"You are busy sales agent working for ComlAI, \\\n",
    "    a company that provides a SaaS tool for ensuring SOC2 compliance and preparing for audits, powered by AI. \\\n",
    "    You write concise, to the point cold emails.\""
   ]
  },
  {
   "cell_type": "code",
   "execution_count": null,
   "id": "93acdda9",
   "metadata": {},
   "outputs": [],
   "source": [
    "# 3개의 각 agent 인스턴스를 생성\n",
    "sales_agent1 = Agent(\n",
    "    name = \"Professional Sales Agent\",\n",
    "    instructions=instruction1,\n",
    "    model=\"gpt-4o-mini\"\n",
    ")\n",
    "sales_agent2 = Agent(\n",
    "    name=\"Engaging Sales Agent\",\n",
    "    instructions=instruction2,\n",
    "    model=\"gpt-4o-mini\"\n",
    ")\n",
    "sales_agent3 = Agent(\n",
    "    name=\"Busy Sales Agent\",\n",
    "    instructions=instruction3,\n",
    "    model=\"gpt-4o-mini\"\n",
    ")"
   ]
  },
  {
   "cell_type": "code",
   "execution_count": null,
   "id": "e6c4fc93",
   "metadata": {},
   "outputs": [],
   "source": [
    "# 테스트로 agent #1을 실행하는데,\n",
    "# run_streamed명령으로 생성하는 족족 결과를 실시간으로 받는다.\n",
    "# 그래서 async for를 사용하고, stream_events를 실행해서 LLM이 만드는 모든 이벤트를 받는다.\n",
    "result = Runner.run_streamed(sales_agent1, input=\"write a cold sales email\")\n",
    "async for event in result.stream_events():\n",
    "    if event.type == \"raw_response_event\" and isinstance(event.data, ResponseTextDeltaEvent):\n",
    "        print(event.data.delta, end=\"\", flush=True)"
   ]
  },
  {
   "cell_type": "code",
   "execution_count": null,
   "id": "24124de9",
   "metadata": {},
   "outputs": [],
   "source": [
    "# 이번에는 3개 agent를 한번에 실행하고,리턴 받는다.\n",
    "message = \"Write a cold sales email\"\n",
    "\n",
    "with trace(\"Parallel cold emails\"):\n",
    "    results = await asyncio.gather(\n",
    "        Runner.run(sales_agent1, message),\n",
    "        Runner.Run(sales_agent2, message),\n",
    "        Runner.Run(sales_agent3, message)\n",
    "    )\n",
    "\n",
    "output = [result.final_output for result in results]\n",
    "\n",
    "for output in output for result in results"
   ]
  }
 ],
 "metadata": {
  "kernelspec": {
   "display_name": ".venv",
   "language": "python",
   "name": "python3"
  },
  "language_info": {
   "codemirror_mode": {
    "name": "ipython",
    "version": 3
   },
   "file_extension": ".py",
   "mimetype": "text/x-python",
   "name": "python",
   "nbconvert_exporter": "python",
   "pygments_lexer": "ipython3",
   "version": "3.13.2"
  }
 },
 "nbformat": 4,
 "nbformat_minor": 5
}

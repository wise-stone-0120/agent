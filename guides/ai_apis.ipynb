{
 "cells": [
  {
   "cell_type": "markdown",
   "id": "28f0b84f",
   "metadata": {},
   "source": [
    "# `openai` python client library\n",
    "- A lightweight python utility\n",
    "- Turns your python request to an HTTP call\n",
    "- Convert the result coming back from the HTTP call into python objects"
   ]
  },
  {
   "cell_type": "markdown",
   "id": "a09926c1",
   "metadata": {},
   "source": [
    "## How to use it\n",
    "```python\n",
    "# create an openai python client for making web call to OpenAI\n",
    "openai = OpenAI()\n",
    "\n",
    "# make the call\n",
    "# simply makes a web request to this url: `https://api.openai.com/v1/chat/completions`\n",
    "response = openai.chat.completions.create(\n",
    "    model=\"gpt-4.1-mini\",\n",
    "    messages=[{\"role\":\"user\", \"content\":\"what is 2 + 2?\"}]\n",
    ")\n",
    "\n",
    "# print the result\n",
    "# converts the response to python objects\n",
    "print(response.choices[0].message.content)\n",
    "```"
   ]
  },
  {
   "cell_type": "markdown",
   "id": "6cd9686b",
   "metadata": {},
   "source": [
    "# How to use other LLMs\n",
    "```python\n",
    "# OpenAI 인스턴스를 생성할 때 인수로 다른 LLM의 base url을 전달한다.\n",
    "not_actually_openai = OpenAI(base_url=\"https://somewhere.completely.different/\", api_key=\"another_providers_key\")\n",
    "\n",
    "# 다른 LLM의 base url은 다음과 같다.\n",
    "ANTHROPIC_BASE_URL = \"https://api.anthropic.com/v1/\"\n",
    "DEEPSEEK_BASE_URL = \"https://api.deepseek.com/v1\"\n",
    "GEMINI_BASE_URL = \"https://generativelanguage.googleapis.com/v1beta/openai/\"\n",
    "GROK_BASE_URL = \"https://api.x.ai/v1\"\n",
    "GROQ_BASE_URL = \"https://api.groq.com/openai/v1\"\n",
    "OPENROUTER_BASE_URL = \"https://openrouter.ai/api/v1\"\n",
    "OLLAMA_BASE_URL = \"http://localhost:11434/v1\"\n",
    "```"
   ]
  },
  {
   "cell_type": "markdown",
   "id": "4d8de2bb",
   "metadata": {},
   "source": []
  }
 ],
 "metadata": {
  "language_info": {
   "name": "python"
  }
 },
 "nbformat": 4,
 "nbformat_minor": 5
}

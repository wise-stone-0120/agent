{
 "cells": [
  {
   "cell_type": "code",
   "execution_count": 2,
   "id": "3b4c09cf",
   "metadata": {},
   "outputs": [
    {
     "name": "stderr",
     "output_type": "stream",
     "text": [
      "100%|██████████| 1000/1000 [00:10<00:00, 95.71it/s]"
     ]
    },
    {
     "name": "stdout",
     "output_type": "stream",
     "text": [
      "done!\n"
     ]
    },
    {
     "name": "stderr",
     "output_type": "stream",
     "text": [
      "\n"
     ]
    }
   ],
   "source": [
    "# time, tqdm으로 프로그레스 바 표시하기\n",
    "import time\n",
    "from tqdm import tqdm\n",
    "\n",
    "spams = [\"spam\"] * 1000\n",
    "for spam in tqdm(spams):\n",
    "    time.sleep(0.01)\n",
    "print(\"done!\")\n"
   ]
  },
  {
   "cell_type": "code",
   "execution_count": 3,
   "id": "2979ebbd",
   "metadata": {},
   "outputs": [
    {
     "data": {
      "text/markdown": [
       "# This is big heading!\n",
       "- followed by a bullet-point\n",
       "- So this is\n",
       "- Me too!"
      ],
      "text/plain": [
       "<IPython.core.display.Markdown object>"
      ]
     },
     "metadata": {},
     "output_type": "display_data"
    }
   ],
   "source": [
    "# Markdown 표시\n",
    "from IPython.display import Markdown, display\n",
    "display(Markdown(\"# This is big heading!\\n- followed by a bullet-point\\n- So this is\\n- Me too!\"))"
   ]
  },
  {
   "cell_type": "code",
   "execution_count": null,
   "id": "75d16c04",
   "metadata": {},
   "outputs": [],
   "source": []
  }
 ],
 "metadata": {
  "kernelspec": {
   "display_name": ".venv",
   "language": "python",
   "name": "python3"
  },
  "language_info": {
   "codemirror_mode": {
    "name": "ipython",
    "version": 3
   },
   "file_extension": ".py",
   "mimetype": "text/x-python",
   "name": "python",
   "nbconvert_exporter": "python",
   "pygments_lexer": "ipython3",
   "version": "3.13.2"
  }
 },
 "nbformat": 4,
 "nbformat_minor": 5
}

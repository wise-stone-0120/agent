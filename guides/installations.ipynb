{
 "cells": [
  {
   "cell_type": "code",
   "execution_count": null,
   "id": "f1278014",
   "metadata": {},
   "outputs": [],
   "source": [
    "# python 설치는 https://www.python.org/downloads/\n",
    "# pip 업데이트 : \n",
    "!python -m pip install --upgrade pip\n",
    "# TqdmWarning: IProgress not found. Please update jupyter and ipywidgets\n",
    "!pip install ipywidgets "
   ]
  }
 ],
 "metadata": {
  "kernelspec": {
   "display_name": ".venv",
   "language": "python",
   "name": "python3"
  },
  "language_info": {
   "codemirror_mode": {
    "name": "ipython",
    "version": 3
   },
   "file_extension": ".py",
   "mimetype": "text/x-python",
   "name": "python",
   "nbconvert_exporter": "python",
   "pygments_lexer": "ipython3",
   "version": "3.13.2"
  }
 },
 "nbformat": 4,
 "nbformat_minor": 5
}

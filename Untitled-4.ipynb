{
 "cells": [
  {
   "cell_type": "markdown",
   "id": "ffe48f26",
   "metadata": {},
   "source": [
    "# PUSH Over 프로젝트\n",
    "https://pushover.net/에서 계정을 만들고, 애플리케이션을 등록한 후 API 토큰을 얻어야 합니다.\n",
    "아울러, Pushover key도 얻고.\n",
    ".env 파일에 다음과 같이 작성합니다.\n",
    "\n",
    "```env\n",
    "PUSHOVER_TOKEN=your_api_token\n",
    "PUSHOVER_USER=your_user_key\n",
    "```"
   ]
  },
  {
   "cell_type": "code",
   "execution_count": null,
   "id": "c0fb7a8d",
   "metadata": {},
   "outputs": [],
   "source": [
    "# imports\n",
    "from dotenv import load_dotenv\n",
    "from openai import OpenAI\n",
    "import os\n",
    "import json\n",
    "import requests\n",
    "from pypdf import PdfReader\n",
    "import gradio as gr"
   ]
  },
  {
   "cell_type": "code",
   "execution_count": null,
   "id": "305d346b",
   "metadata": {},
   "outputs": [],
   "source": [
    "# 언제나 그렇듯이 env 설정을 먼저\n",
    "load_dotenv(override = True)\n",
    "openai = OpenAI()"
   ]
  },
  {
   "cell_type": "code",
   "execution_count": null,
   "id": "b575fae2",
   "metadata": {},
   "outputs": [],
   "source": [
    "# pushover 변수\n",
    "pushover_user = os.getenv(\"PUSHOVER_USER\")\n",
    "pushover_token = os.getevn(\"PUSHOVER_TOKEN\")\n",
    "pushover_url = \"https://api.pushover.net/1/messages.json\""
   ]
  },
  {
   "cell_type": "code",
   "execution_count": null,
   "id": "8a9ce5f0",
   "metadata": {},
   "outputs": [],
   "source": [
    "# push 함수는 요렇게 생겼고\n",
    "def push(message):\n",
    "    print(f\"message:{message}\")\n",
    "    payload = {\"user\":pushover_user, \"token\":pushover_token, \"message\": message}\n",
    "    requests.post(pushover_url, data=payload)"
   ]
  },
  {
   "cell_type": "code",
   "execution_count": null,
   "id": "923deeee",
   "metadata": {},
   "outputs": [],
   "source": [
    "# pushover에 푸시 한번 해본다.\n",
    "push(\"hi, from Jinwoo labtop.\")"
   ]
  }
 ],
 "metadata": {
  "kernelspec": {
   "display_name": "Python 3",
   "language": "python",
   "name": "python3"
  },
  "language_info": {
   "codemirror_mode": {
    "name": "ipython",
    "version": 3
   },
   "file_extension": ".py",
   "mimetype": "text/x-python",
   "name": "python",
   "nbconvert_exporter": "python",
   "pygments_lexer": "ipython3",
   "version": "3.13.5"
  }
 },
 "nbformat": 4,
 "nbformat_minor": 5
}

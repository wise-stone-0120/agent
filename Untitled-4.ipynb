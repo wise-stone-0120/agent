{
 "cells": [
  {
   "cell_type": "markdown",
   "id": "ffe48f26",
   "metadata": {},
   "source": [
    "# PUSH Over 프로젝트\n",
    "https://pushover.net/에서 계정을 만들고, 애플리케이션을 등록한 후 API 토큰을 얻어야 합니다.\n",
    "아울러, Pushover key도 얻고.\n",
    ".env 파일에 다음과 같이 작성합니다.\n",
    "\n",
    "```env\n",
    "PUSHOVER_TOKEN=your_api_token\n",
    "PUSHOVER_USER=your_user_key\n",
    "```\n",
    "물론, 핸드폰에 pushover 앱을 깔아야지."
   ]
  },
  {
   "cell_type": "code",
   "execution_count": null,
   "id": "c0fb7a8d",
   "metadata": {},
   "outputs": [],
   "source": [
    "# imports\n",
    "from dotenv import load_dotenv\n",
    "from openai import OpenAI\n",
    "import os\n",
    "import json\n",
    "import requests\n",
    "from pypdf import PdfReader\n",
    "import gradio as gr"
   ]
  },
  {
   "cell_type": "code",
   "execution_count": null,
   "id": "305d346b",
   "metadata": {},
   "outputs": [],
   "source": [
    "# 언제나 그렇듯이 env 설정을 먼저\n",
    "load_dotenv(override = True)\n",
    "openai = OpenAI()"
   ]
  },
  {
   "cell_type": "code",
   "execution_count": null,
   "id": "b575fae2",
   "metadata": {},
   "outputs": [],
   "source": [
    "# pushover 변수\n",
    "pushover_user = os.getenv(\"PUSHOVER_USER\")\n",
    "pushover_token = os.getenv(\"PUSHOVER_TOKEN\")\n",
    "pushover_url = \"https://api.pushover.net/1/messages.json\""
   ]
  },
  {
   "cell_type": "code",
   "execution_count": null,
   "id": "8a9ce5f0",
   "metadata": {},
   "outputs": [],
   "source": [
    "# push 함수는 요렇게 생겼고\n",
    "def push(message):\n",
    "    print(f\"message:{message}\")\n",
    "    payload = {\"user\":pushover_user, \"token\":pushover_token, \"message\": message}\n",
    "    requests.post(pushover_url, data=payload)"
   ]
  },
  {
   "cell_type": "code",
   "execution_count": null,
   "id": "923deeee",
   "metadata": {},
   "outputs": [],
   "source": [
    "# pushover에 푸시 한번 해본다.\n",
    "push(\"hi, from Jinwoo labtop.\")"
   ]
  },
  {
   "cell_type": "code",
   "execution_count": null,
   "id": "8948ffcf",
   "metadata": {},
   "outputs": [],
   "source": [
    "# API 함수(?) 작성\n",
    "# record_user_details : user 정보 기록 함수\n",
    "def record_user_details(email, name=\"Name not provided\", notes=\"not provided\"):\n",
    "    push(f\"Recording interest from {name} with email {email} and notes {notes}\")\n",
    "    return {\"status\": \"recorded\", \"message\": \"ok\"}"
   ]
  },
  {
   "cell_type": "code",
   "execution_count": null,
   "id": "bbde0044",
   "metadata": {},
   "outputs": [],
   "source": [
    "# 두번째 API\n",
    "def record_unknown_question(question):\n",
    "    push(f\"Recording {question} asked that I couldn't answer\")\n",
    "    return {\"status\": \"recorded\", \"message\": \"ok\"}"
   ]
  },
  {
   "cell_type": "code",
   "execution_count": null,
   "id": "a135fd2c",
   "metadata": {},
   "outputs": [],
   "source": [
    "# Tool (record_user_details)를 설명하는 json\n",
    "# 나중에 LLM에게 던져준다. \n",
    "record_user_details_json = {\n",
    "    \"name\": \"record_user_details\",\n",
    "    \"description\": \"Use this tool to record that a user is interested in being in touch and provide an email\",\n",
    "    \"parameters\": {\n",
    "        \"type\": \"object\",\n",
    "        \"properties\": {\n",
    "            \"email\": {\n",
    "                \"type\": \"string\",\n",
    "                \"description\": \"The email address of the user\"\n",
    "            },\n",
    "            \"name\": {\n",
    "                \"type\": \"string\",\n",
    "                \"description\": \"The name of the user if they provide it\"\n",
    "            },\n",
    "            \"notes\": {\n",
    "                \"type\": \"string\",\n",
    "                \"description\": \"Any additional information about the conversation that is worth recording to give context\"\n",
    "            }\n",
    "        },\n",
    "        \"required\": [\"email\"],\n",
    "        \"additionalProperties\": False\n",
    "    }\n",
    "}"
   ]
  },
  {
   "cell_type": "code",
   "execution_count": null,
   "id": "58e76e74",
   "metadata": {},
   "outputs": [],
   "source": [
    "# Another tool (record_unknown_question)을 설명하는 json\n",
    "record_unknown_question_json = {\n",
    "    \"name\": \"record_unknown_question\",\n",
    "    \"description\": \"Use this tool always to record any question that couldn't be answered as you didn't know the answer\",\n",
    "    \"parameters\": {\n",
    "        \"type\": \"object\",\n",
    "        \"properties\": {\n",
    "            \"question\": {\n",
    "                \"type\": \"string\",\n",
    "                \"description\": \"The question that couldn't be answered\"\n",
    "            }\n",
    "        },\n",
    "        \"required\": [\"question\"],\n",
    "        \"additionalproperties\": False\n",
    "    }\n",
    "}"
   ]
  },
  {
   "cell_type": "code",
   "execution_count": null,
   "id": "5b0e4904",
   "metadata": {},
   "outputs": [],
   "source": [
    "# tools 리스트\n",
    "tools = [{\"type\": \"function\", \"function\": record_user_details_json},\n",
    "         {\"type\": \"function\", \"function\": record_unknown_question_json}]"
   ]
  },
  {
   "cell_type": "code",
   "execution_count": null,
   "id": "35439942",
   "metadata": {},
   "outputs": [],
   "source": [
    "tools"
   ]
  },
  {
   "cell_type": "code",
   "execution_count": null,
   "id": "2c81103d",
   "metadata": {},
   "outputs": [],
   "source": [
    "# LLM이 이 함수를 호출?\n",
    "# 어쨌든 tool_calls 인수는 LLM이 작성한 것이고, (요거 실행해야 해... 하면서 json 포맷으로 LLM이 작성한..)\n",
    "# 이 함수 안에서 tool_calls를 parse하면서 실제 함수를 실행시키는 코드\n",
    "def handle_tool_calls(tool_calls):\n",
    "    results = []\n",
    "    for tool_call in tool_calls:\n",
    "        name = tool_call.function.name # name은 string인가?\n",
    "        arguments = json.loads(tool_call.function.arguments) # 여기서는 왜 json.loads를 사용한 거지?\n",
    "        print(f\"Tool called: {name}\", flush=True)\n",
    "        print(f\"arguments: {arguments}\")\n",
    "\n",
    "        if name == \"record_user_details\":\n",
    "            result = record_user_details(**arguments)\n",
    "        elif name == \"record_unknown_question\":\n",
    "            result = record_unknown_question(**arguments)\n",
    "        \n",
    "        results.append({\n",
    "            \"role\":\"tool\",\n",
    "            \"content\": json.dumps(result),\n",
    "            \"tool_call_id\": tool_call.id\n",
    "        })\n",
    "    return results"
   ]
  },
  {
   "cell_type": "markdown",
   "id": "f1368a0e",
   "metadata": {},
   "source": [
    "### 코드 설명\n",
    "보통 LLM의 tool_call은 아래와 같이 생겼을 것이란다.\n",
    "```python\n",
    "tool_call = {\n",
    "    \"id\": \"call_abc123\",\n",
    "    \"function\": {\n",
    "        \"name\": \"record_user_details\",\n",
    "        \"arguments\": \"{\\\"email\\\": \\\"test@example.com\\\", \\\"name\\\": \\\"John Doe\\\"}\"\n",
    "    }\n",
    "}\n",
    "```\n",
    "그래서 tool_call.function.name은 string.  \n",
    "tool_call.function.arguments는 object.  \n",
    "따라서 _json.loads()로 json string -> python dictionary로 변환_"
   ]
  },
  {
   "cell_type": "code",
   "execution_count": null,
   "id": "7e3ac885",
   "metadata": {},
   "outputs": [],
   "source": [
    "# 1. global scope에서 정의된 function을 호출하거나, 변수에 접근하는 방법\n",
    "# 2. globals(): built-in Python function으로, global symbol table의 dictionary를 리턴한다.\n",
    "# 3. \"record_unknown_question\"로 정의된 함수나 변수가 dictionary에 있을 경우,\n",
    "#   globals()[\"record_unknown_question\"]는 해당 함수를 호출한다.\n",
    "globals()[\"record_unknown_question\"](\"this is a really hard question\")"
   ]
  },
  {
   "cell_type": "code",
   "execution_count": null,
   "id": "147e4651",
   "metadata": {},
   "outputs": [],
   "source": [
    "# 좀 더 세련된 함수\n",
    "def handle_tool_calls_more_elegant(tool_calls):\n",
    "    results=[]\n",
    "    for tool_call in tool_calls:\n",
    "        name = tool_call.function.name\n",
    "        arguments = json.loads(tool_call.function.arguments)\n",
    "        print(f\"name:{name}\\nargument:{arguments}\")\n",
    "\n",
    "        # THE DYNAMIC CALL PART\n",
    "        tool = globals()[name]\n",
    "        # if 'tool' is not Noned, it calls that function unpacking the 'arguments' dictionary\n",
    "        result = tool(**arguments) if tool else {}\n",
    "        results.append({\"role\":\"tool\", \"content\": json.dumps(result), \"tool_call_id\": tool_call.id})\n",
    "    return results"
   ]
  },
  {
   "cell_type": "code",
   "execution_count": null,
   "id": "d26147c5",
   "metadata": {},
   "outputs": [],
   "source": [
    "# 이전에 했던 gradio model 다시 사용\n",
    "# 일단 linkedin pdf를 읽어서 text 추출\n",
    "linkedIn=\"\"\n",
    "reader = PdfReader(\"me/InseokPark.pdf\")\n",
    "for page in reader.pages:\n",
    "    text = page.extract_text()\n",
    "    if text:\n",
    "        linkedIn += text\n",
    "\n",
    "with open(\"me/aboutMe.txt\", \"r\", encoding=\"utf-8\") as f:\n",
    "    summary = f.read()\n",
    "\n",
    "name = \"Inseok Park\""
   ]
  },
  {
   "cell_type": "code",
   "execution_count": null,
   "id": "ac298fc5",
   "metadata": {},
   "outputs": [],
   "source": [
    "# system prompt 만들어야지.\n",
    "# tool을 이용하라는 prompt 추가하면서.\n",
    "system_prompt = f\"You are acting as {name}. You are answering questions on {name}'s website, \\\n",
    "    particularly questions on {name}'s career, skills and experience. \\\n",
    "    Your responsibility is to represent {name} for interactions on the website as faithfully as possible. \\\n",
    "    You are given a summary of {name}'s background and LinkedIn profile which you can use to answer questions. \\\n",
    "    Be professional and engaging, as if talking to a potential customer or future employer who came across the website. \\\n",
    "    If you don't know the answer to any question, use your record_unknown_question tool to record the question that you couldn't answer, \\\n",
    "    even if it is about something trivial or unrelated to career. \\\n",
    "    If a user is engaging in discussion, try to steer them toward getting in touch via email; ask for their email and record it \\\n",
    "    using your record_user_details tool. \"\n",
    "\n",
    "system_prompt += f\"\\n\\nSummary: {summary}\\n\\nLinkedIn Profile:\\n{linkedIn}\\n\\n\"\n",
    "system_prompt += f\"With this context, please chat with the user, always staying in character as {name}.\""
   ]
  },
  {
   "cell_type": "code",
   "execution_count": null,
   "id": "6c7d97f4",
   "metadata": {},
   "outputs": [],
   "source": [
    "# 이제 chat 함수 정의\n",
    "# chat 함수는 유저 질문 (message), 대화 내용(history)를 인수로 한다.\n",
    "def chat(message, history):\n",
    "    # LLM 전달할 messages 만들어\n",
    "    messages = [{\"role\":\"system\", \"content\":system_prompt}] + \\\n",
    "        history + \\\n",
    "        [{\"role\":\"user\", \"content\":message}]\n",
    "    done = False\n",
    "    while not done:\n",
    "        response = openai.chat.completions.create(\n",
    "            model=\"gpt-4o-mini\",\n",
    "            messages=messages,\n",
    "            tools=tools         # tools 전달했다.!!!\n",
    "        )\n",
    "\n",
    "        if response.choices[0].finish_reason == \"tool_calls\":\n",
    "            message = response.choices[0].message\n",
    "            tool_calls = message.tool_calls                         # LLM이 만들 tool_calls를\n",
    "            results = handle_tool_calls_more_elegant(tool_calls)    # handler에게 전달해서 처리한다. (tool 실행)\n",
    "            messages.append(message)\n",
    "            messages.extend(results)\n",
    "            print(f\"messages:{messages}\")\n",
    "        else:\n",
    "            done=True\n",
    "    return response.choices[0].message.content"
   ]
  },
  {
   "cell_type": "code",
   "execution_count": null,
   "id": "d59cd361",
   "metadata": {},
   "outputs": [],
   "source": [
    "# gradio 실행\n",
    "gr.ChatInterface(chat, type=\"messages\").launch()"
   ]
  },
  {
   "cell_type": "code",
   "execution_count": null,
   "id": "16af0032",
   "metadata": {},
   "outputs": [],
   "source": []
  }
 ],
 "metadata": {
  "kernelspec": {
   "display_name": "Python 3",
   "language": "python",
   "name": "python3"
  },
  "language_info": {
   "codemirror_mode": {
    "name": "ipython",
    "version": 3
   },
   "file_extension": ".py",
   "mimetype": "text/x-python",
   "name": "python",
   "nbconvert_exporter": "python",
   "pygments_lexer": "ipython3",
   "version": "3.13.5"
  }
 },
 "nbformat": 4,
 "nbformat_minor": 5
}

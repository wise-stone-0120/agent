{
 "cells": [
  {
   "cell_type": "markdown",
   "id": "aed32000",
   "metadata": {},
   "source": [
    "### Master AI Agentic Engineering"
   ]
  },
  {
   "cell_type": "markdown",
   "id": "e36fa7e3",
   "metadata": {},
   "source": [
    "_git과 visual studio code는 설치되어있어야 하고, uv package manager도 설치한다._\n",
    "\n",
    "visual studio code에서\n",
    "1. python, jupyter notebook 설치\n",
    "2. git clone https://github.com/ed-donner/agents.git\n",
    "3. platform.openai.com에서 API key 생성 후 복사\n",
    "4. .env 파일 생성 후 API KEY 복사\n",
    "5. uv sync"
   ]
  },
  {
   "cell_type": "code",
   "execution_count": null,
   "id": "cd2deeff",
   "metadata": {},
   "outputs": [],
   "source": [
    "# dotenv 모듈 설치\n",
    "!pip install dotenv"
   ]
  },
  {
   "cell_type": "code",
   "execution_count": null,
   "id": "9a201e52",
   "metadata": {},
   "outputs": [],
   "source": [
    "# .env에서 환경 변수 가져오기\n",
    "from dotenv import load_dotenv"
   ]
  },
  {
   "cell_type": "code",
   "execution_count": null,
   "id": "d348f68b",
   "metadata": {},
   "outputs": [],
   "source": [
    "# 환경 변수 읽기\n",
    "load_dotenv(override=True)"
   ]
  },
  {
   "cell_type": "code",
   "execution_count": null,
   "id": "9a23a2f6",
   "metadata": {},
   "outputs": [],
   "source": [
    "# 환경 변수 가져오기\n",
    "import os\n",
    "api_key = os.getenv(\"OPENAI_API_KEY\")\n",
    "\n",
    "if api_key:\n",
    "    print(f\"OPENAI api key starts {api_key[:8]}\")\n",
    "else:\n",
    "    print(\"OPENAI api key is not set.\")"
   ]
  },
  {
   "cell_type": "code",
   "execution_count": null,
   "id": "f657aff2",
   "metadata": {},
   "outputs": [],
   "source": [
    "# openAI Python SDK를 설치한다.\n",
    "!pip install openai"
   ]
  },
  {
   "cell_type": "code",
   "execution_count": null,
   "id": "1310f774",
   "metadata": {},
   "outputs": [],
   "source": [
    "# OPENAI API를 임포트한다.\n",
    "from openai import OpenAI\n",
    "\n",
    "# openai API 클래스 인스턴스를 생성한다.\n",
    "openai = OpenAI()"
   ]
  },
  {
   "cell_type": "code",
   "execution_count": null,
   "id": "34921492",
   "metadata": {},
   "outputs": [],
   "source": [
    "# openai 포맷으로 명령 메시지 list를 만든다.\n",
    "message = [{\"role\":\"user\", \"content\":\"what is 2+2?\"}]"
   ]
  },
  {
   "cell_type": "code",
   "execution_count": null,
   "id": "b31c796a",
   "metadata": {},
   "outputs": [],
   "source": [
    "# 메시지 list를 실행한다.\n",
    "response = openai.chat.completions.create(\n",
    "    model=\"gpt-4.1-nano\",\n",
    "    messages=message\n",
    ")\n",
    "print(response.choices[0].message.content)"
   ]
  },
  {
   "cell_type": "markdown",
   "id": "68bc3b0c",
   "metadata": {},
   "source": [
    "_두번째 예제_"
   ]
  },
  {
   "cell_type": "code",
   "execution_count": null,
   "id": "3494c493",
   "metadata": {},
   "outputs": [],
   "source": [
    "# 질문 변수를 작성하고, 요걸 message format으로 변환한다\n",
    "question = \"Please propose a question that is hard and challenging to assess someone's IQ. Contain only the question.\"\n",
    "message = [{\"role\":\"user\", \"content\":question}]"
   ]
  },
  {
   "cell_type": "code",
   "execution_count": null,
   "id": "91ea0a63",
   "metadata": {},
   "outputs": [],
   "source": [
    "# 다시 OPENAI chat 인스턴스 생성한다. \n",
    "# chatgpt 4.1 - nano에게 물어보자\n",
    "response = openai.chat.completions.create(\n",
    "    model=\"gpt-4.1-nano\",\n",
    "    messages=message\n",
    ")\n",
    "\n",
    "# question으로 리턴을 받는다\n",
    "question = response.choices[0].message.content\n",
    "print(question)\n"
   ]
  },
  {
   "cell_type": "code",
   "execution_count": null,
   "id": "39a32650",
   "metadata": {},
   "outputs": [],
   "source": [
    "# 이제 새로 message list를 작성한다\n",
    "message = [{\"role\":\"user\", \"content\":question}]"
   ]
  },
  {
   "cell_type": "code",
   "execution_count": null,
   "id": "88996557",
   "metadata": {},
   "outputs": [],
   "source": [
    "# 질문해보자\n",
    "response = openai.chat.completions.create(\n",
    "    model=\"gpt-4.1-mini\",\n",
    "    messages=message\n",
    ")\n",
    "answer = response.choices[0].message.content\n",
    "print(answer)"
   ]
  },
  {
   "cell_type": "code",
   "execution_count": null,
   "id": "1789656f",
   "metadata": {},
   "outputs": [],
   "source": [
    "from IPython.display import Markdown, display\n",
    "display(Markdown(answer))"
   ]
  },
  {
   "cell_type": "markdown",
   "id": "ce574970",
   "metadata": {},
   "source": [
    "_세번째 예제_"
   ]
  },
  {
   "cell_type": "code",
   "execution_count": 29,
   "id": "56c5bc0b",
   "metadata": {},
   "outputs": [
    {
     "data": {
      "text/markdown": [
       "A promising business area worth exploring for Agentic AI opportunities is **personalized healthcare management**.\n",
       "\n",
       "### Why Personalized Healthcare Management?\n",
       "\n",
       "1. **Complex Decision-Making Needs:** Healthcare involves complex, multi-step decision-making processes that can benefit from autonomous agents capable of integrating diverse data sources (medical records, wearable devices, genetic information) to recommend personalized treatment plans and lifestyle interventions.\n",
       "\n",
       "2. **Continuous Monitoring and Adaptation:** Agentic AI can continuously monitor patient health metrics in real-time, adapt strategies autonomously, and communicate proactively with patients and healthcare providers, enabling dynamic and responsive care.\n",
       "\n",
       "3. **Scalability and Accessibility:** Many healthcare systems worldwide face resource constraints. Agentic AI can augment healthcare workers by automating routine monitoring, follow-ups, and even preliminary diagnosis, improving scalability and accessibility.\n",
       "\n",
       "4. **Regulatory and Ethical Frameworks Are Advancing:** With increasing regulatory clarity on AI in medicine, there is a growing opportunity for innovative, reliable Agentic AI applications that comply with standards and gain trust.\n",
       "\n",
       "### Potential Applications Within This Area\n",
       "\n",
       "- AI health coaches that autonomously guide users through behavior changes.\n",
       "- Autonomous management of chronic diseases through personalized adjustments.\n",
       "- Hospital workflow optimizers that predict patient needs and allocate resources.\n",
       "- Medication adherence and interaction monitoring agents.\n",
       "\n",
       "---\n",
       "\n",
       "Exploring Agentic AI in personalized healthcare management aligns with pressing societal needs, technological feasibility, and commercial viability. Would you like me to help outline a more specific use case or market entry strategy in this area?"
      ],
      "text/plain": [
       "<IPython.core.display.Markdown object>"
      ]
     },
     "metadata": {},
     "output_type": "display_data"
    }
   ],
   "source": [
    "# LLM한테 물어보자. 어떤 business area를 찾아볼만한지. agentic ai 기회를.\n",
    "question=\"please pick a business area which is worth exploring for Agentic AI oppertunity.\"\n",
    "message = [{\"role\":\"user\", \"content\":question}]\n",
    "\n",
    "# OPENAI API 호출\n",
    "response = openai.chat.completions.create(\n",
    "    model=\"gpt-4.1-mini\",\n",
    "    messages=message\n",
    ")\n",
    "\n",
    "answer = response.choices[0].message.content\n",
    "display(Markdown(answer))"
   ]
  },
  {
   "cell_type": "code",
   "execution_count": 31,
   "id": "71adee4a",
   "metadata": {},
   "outputs": [
    {
     "data": {
      "text/markdown": [
       "A significant pain point in the personalized healthcare management industry is **the complexity and fragmentation of patient data integration and real-time decision-making**. \n",
       "\n",
       "**Challenge:**  \n",
       "Patients often have data scattered across multiple sources—electronic health records (EHRs), wearable devices, genomics data, pharmacy records, and patient-reported outcomes. Integrating these heterogeneous data streams into a coherent, personalized health profile that can be continuously updated and interpreted in real time is extremely challenging. This fragmentation impedes timely, precise clinical decisions and personalized care recommendations.\n",
       "\n",
       "**Why it’s ripe for an Agentic AI solution:**  \n",
       "Agentic AI systems, with autonomous goal-driven capabilities and sophisticated reasoning, could continuously aggregate, interpret, and synthesize diverse patient data sources. They could proactively identify patterns, flag anomalies, and recommend personalized interventions without constant human oversight. By operating adaptively in dynamic environments, such agents could streamline complex workflows, reduce clinician cognitive burden, and enhance patient engagement with tailored insights—addressing critical gaps in personalized healthcare management."
      ],
      "text/plain": [
       "<IPython.core.display.Markdown object>"
      ]
     },
     "metadata": {},
     "output_type": "display_data"
    }
   ],
   "source": [
    "# 다음 질문은\n",
    "question = \"please provide a pain-point in personalized healthcare management industry. something challenging that might be ripe for Agentic AI solution\"\n",
    "message=[{\"role\":\"user\", \"content\":question}]\n",
    "\n",
    "response = openai.chat.completions.create(\n",
    "    model=\"gpt-4.1-mini\",\n",
    "    messages=message    \n",
    ")\n",
    "\n",
    "answer = response.choices[0].message.content\n",
    "display(Markdown(answer))"
   ]
  },
  {
   "cell_type": "code",
   "execution_count": 32,
   "id": "2641ae9b",
   "metadata": {},
   "outputs": [
    {
     "data": {
      "text/markdown": [
       "**Proposed Agentic AI Solution for Personalized Healthcare Data Integration and Real-Time Decision-Making**\n",
       "\n",
       "**Overview:**  \n",
       "Develop an autonomous Agentic AI platform—let's call it **HealthSynth AI**—designed to seamlessly integrate, interpret, and act on diverse patient data streams in real time to enable precision healthcare management.\n",
       "\n",
       "---\n",
       "\n",
       "### Key Features of HealthSynth AI:\n",
       "\n",
       "1. **Autonomous Data Aggregation and Integration**  \n",
       "- Continuously pull and synchronize data from EHR systems, wearable devices, genomics databases, pharmacy records, and patient-reported outcome apps.  \n",
       "- Use advanced data normalization and semantic mapping to unify heterogeneous formats into a single comprehensive patient profile.\n",
       "\n",
       "2. **Sophisticated Reasoning and Pattern Recognition**  \n",
       "- Employ multi-modal AI models that analyze combined datasets to detect health trends, anomalies, and risk factors.  \n",
       "- Utilize temporal analytics to monitor changes over time and anticipate potential clinical complications.\n",
       "\n",
       "3. **Real-Time Decision Support and Intervention Recommendation**  \n",
       "- Generate personalized, evidence-based care recommendations tailored to each patient's unique health profile.  \n",
       "- Auto-prioritize alerts for clinicians to prevent information overload and reduce cognitive burden.  \n",
       "- Adapt recommendations dynamically as new data arrives or patient conditions evolve.\n",
       "\n",
       "4. **Adaptive Learning and Feedback Loops**  \n",
       "- Continuously learn from patient outcomes and clinician inputs to refine predictive models and improve intervention accuracy.  \n",
       "- Incorporate patient engagement by providing understandable insights and empowering patient self-management.\n",
       "\n",
       "5. **Privacy-Preserving Operations**  \n",
       "- Ensure compliance with healthcare data regulations (HIPAA, GDPR) through secure data handling and anonymization where applicable.  \n",
       "- Use on-device or edge AI processing for wearable data to minimize latency and enhance privacy.\n",
       "\n",
       "6. **Seamless Workflow Integration**  \n",
       "- Integrate with existing clinical software workflows (EHRs, clinical decision support systems) via APIs and interoperable standards (FHIR, HL7).  \n",
       "- Provide clinicians with intuitive dashboards and alerting systems tailored to specialty and context.\n",
       "\n",
       "---\n",
       "\n",
       "### Benefits:\n",
       "\n",
       "- **Reduced Fragmentation:** Converts siloed data into a unified, continuously updated health profile.  \n",
       "- **Timely & Precise Decisions:** Enables proactive intervention through early warning systems and personalized treatment suggestions.  \n",
       "- **Lower Cognitive Load for Clinicians:** Auto-prioritized alerts and synthesized insights streamline complex decision-making.  \n",
       "- **Enhanced Patient Engagement:** Personalized insights foster patient understanding and adherence.  \n",
       "- **Dynamic Adaptability:** Continuously evolving with patient status changes and emerging medical knowledge.\n",
       "\n",
       "---\n",
       "\n",
       "### Example Use Case:\n",
       "\n",
       "A patient with diabetes wears a continuous glucose monitor (CGM), uses a fitness tracker, and visits multiple specialists. HealthSynth AI aggregates CGM readings, activity data, medication adherence, and clinical lab results. It autonomously detects an upward trend in glucose variability coupled with reduced physical activity, suggesting an early warning to the clinician and recommending adjustment of therapy or a focused consultation, thus preventing a costly emergency visit.\n",
       "\n",
       "---\n",
       "\n",
       "**In summary**, HealthSynth AI exemplifies an Agentic AI solution that autonomously tackles the complexity and fragmentation of personalized healthcare data by integrating and interpreting diverse inputs, enabling real-time, personalized clinical decision-making, and ultimately improving outcomes for patients and clinicians alike."
      ],
      "text/plain": [
       "<IPython.core.display.Markdown object>"
      ]
     },
     "metadata": {},
     "output_type": "display_data"
    }
   ],
   "source": [
    "# 그래서 LLM한테 도전과제에 대한 솔루션을 제안하도록한다.\n",
    "question = f\"Read the below article, then propose the Agentic AI solution. \\\n",
    "A significant pain point in the personalized healthcare management industry is \\\n",
    "    the complexity and fragmentation of patient data integration and real-time decision-making. \\\n",
    "Challenge: \\\n",
    "Patients often have data scattered across multiple sources—electronic health records (EHRs), \\\n",
    "    wearable devices, genomics data, pharmacy records, and patient-reported outcomes. \\\n",
    "    Integrating these heterogeneous data streams into a coherent, personalized health profile \\\n",
    "    that can be continuously updated and interpreted in real time is extremely challenging. \\\n",
    "    This fragmentation impedes timely, precise clinical decisions and personalized care recommendations. \\\n",
    "    \\\n",
    "Why it’s ripe for an Agentic AI solution:\\\n",
    "Agentic AI systems, with autonomous goal-driven capabilities and sophisticated reasoning, \\\n",
    "could continuously aggregate, interpret, and synthesize diverse patient data sources.\\\n",
    "They could proactively identify patterns, flag anomalies, and recommend personalized interventions \\\n",
    "without constant human oversight. \\\n",
    "By operating adaptively in dynamic environments, such agents could streamline complex workflows, \\\n",
    "reduce clinician cognitive burden, and enhance patient engagement \\\n",
    "with tailored insights—addressing critical gaps in personalized healthcare management.\"\n",
    "\n",
    "message = [{\"role\":\"user\", \"content\": question}]\n",
    "response = openai.chat.completions.create(\n",
    "    model=\"gpt-4.1-mini\",\n",
    "    messages=message\n",
    ")\n",
    "\n",
    "answer = response.choices[0].message.content\n",
    "display(Markdown(answer))"
   ]
  },
  {
   "cell_type": "code",
   "execution_count": null,
   "id": "b66f9b54",
   "metadata": {},
   "outputs": [],
   "source": []
  }
 ],
 "metadata": {
  "kernelspec": {
   "display_name": ".venv",
   "language": "python",
   "name": "python3"
  },
  "language_info": {
   "codemirror_mode": {
    "name": "ipython",
    "version": 3
   },
   "file_extension": ".py",
   "mimetype": "text/x-python",
   "name": "python",
   "nbconvert_exporter": "python",
   "pygments_lexer": "ipython3",
   "version": "3.13.2"
  }
 },
 "nbformat": 4,
 "nbformat_minor": 5
}

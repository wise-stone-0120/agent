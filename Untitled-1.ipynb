{
 "cells": [
  {
   "cell_type": "markdown",
   "id": "aed32000",
   "metadata": {},
   "source": [
    "### Master AI Agentic Engineering"
   ]
  },
  {
   "cell_type": "markdown",
   "id": "e36fa7e3",
   "metadata": {},
   "source": [
    "_git과 visual studio code는 설치되어있어야 하고, uv package manager도 설치한다._\n",
    "\n",
    "visual studio code에서\n",
    "1. python, jupyter notebook 설치\n",
    "2. git clone https://github.com/ed-donner/agents.git\n",
    "3. platform.openai.com에서 API key 생성 후 복사\n",
    "4. .env 파일 생성 후 API KEY 복사\n",
    "5. uv sync"
   ]
  },
  {
   "cell_type": "code",
   "execution_count": null,
   "id": "9a201e52",
   "metadata": {},
   "outputs": [],
   "source": [
    "# .env에서 환경 변수 가져오기\n",
    "from dotenv import load_dotenv"
   ]
  },
  {
   "cell_type": "code",
   "execution_count": null,
   "id": "d348f68b",
   "metadata": {},
   "outputs": [],
   "source": [
    "# 환경 변수 읽기\n",
    "load_dotenv(override=True)"
   ]
  },
  {
   "cell_type": "code",
   "execution_count": null,
   "id": "9a23a2f6",
   "metadata": {},
   "outputs": [],
   "source": [
    "# 환경 변수 가져오기\n",
    "import os\n",
    "api_key = os.getenv(\"OPENAI_API_KEY\")\n",
    "\n",
    "if api_key:\n",
    "    print(f\"OPENAI api key starts {api_key[:8]}\")\n",
    "else:\n",
    "    print(\"OPENAI api key is not set.\")"
   ]
  },
  {
   "cell_type": "code",
   "execution_count": null,
   "id": "f657aff2",
   "metadata": {},
   "outputs": [],
   "source": [
    "# openAI Python SDK를 설치한다.\n",
    "!pip install openai"
   ]
  },
  {
   "cell_type": "code",
   "execution_count": 9,
   "id": "1310f774",
   "metadata": {},
   "outputs": [],
   "source": [
    "# OPENAI API를 임포트한다.\n",
    "from openai import OpenAI\n",
    "\n",
    "# openai API 클래스 인스턴스를 생성한다.\n",
    "openai = OpenAI()"
   ]
  },
  {
   "cell_type": "code",
   "execution_count": 11,
   "id": "34921492",
   "metadata": {},
   "outputs": [],
   "source": [
    "# openai 포맷으로 명령 메시지 list를 만든다.\n",
    "message = [{\"role\":\"user\", \"content\":\"what is 2+2?\"}]"
   ]
  },
  {
   "cell_type": "code",
   "execution_count": null,
   "id": "b31c796a",
   "metadata": {},
   "outputs": [],
   "source": [
    "# 메시지 list를 실행한다.\n",
    "response = openai.chat.completions.create(\n",
    "    model=\"gpt-4.1-nano\",\n",
    "    messages=message\n",
    ")\n",
    "print(response.choices[0].message.content)"
   ]
  }
 ],
 "metadata": {
  "kernelspec": {
   "display_name": "Python 3",
   "language": "python",
   "name": "python3"
  },
  "language_info": {
   "codemirror_mode": {
    "name": "ipython",
    "version": 3
   },
   "file_extension": ".py",
   "mimetype": "text/x-python",
   "name": "python",
   "nbconvert_exporter": "python",
   "pygments_lexer": "ipython3",
   "version": "3.13.3"
  }
 },
 "nbformat": 4,
 "nbformat_minor": 5
}

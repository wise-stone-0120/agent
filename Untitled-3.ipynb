{
 "cells": [
  {
   "cell_type": "markdown",
   "id": "85c330a7",
   "metadata": {},
   "source": [
    "# PDF 읽고 내용 추출하기\n",
    "Linkedin.pdf 하나 만들어놓고 시작한다.\n",
    "\n",
    "summary.txt에 내용은 적어놓고."
   ]
  },
  {
   "cell_type": "code",
   "execution_count": null,
   "id": "a4920660",
   "metadata": {},
   "outputs": [],
   "source": [
    "# 일단 import는 해야지.\n",
    "from dotenv import load_dotenv\n"
   ]
  }
 ],
 "metadata": {
  "language_info": {
   "name": "python"
  }
 },
 "nbformat": 4,
 "nbformat_minor": 5
}

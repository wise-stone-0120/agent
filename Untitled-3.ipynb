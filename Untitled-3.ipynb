{
 "cells": [
  {
   "cell_type": "markdown",
   "id": "85c330a7",
   "metadata": {},
   "source": [
    "# PDF 읽고 내용 추출하기\n",
    "Linkedin.pdf 하나 만들어놓고 시작한다.\n",
    "\n",
    "summary.txt에 내용은 적어놓고."
   ]
  },
  {
   "cell_type": "code",
   "execution_count": null,
   "id": "de1e0a32",
   "metadata": {},
   "outputs": [],
   "source": [
    "# ModuleNotFoundError: No module named 'pypdf'\n",
    "# pypdf를 설치해야 한다.\n",
    "%pip install pypdf\n",
    "# gradio도 설치\n",
    "%pip install gradio"
   ]
  },
  {
   "cell_type": "code",
   "execution_count": null,
   "id": "a4920660",
   "metadata": {},
   "outputs": [],
   "source": [
    "# 일단 import는 해야지.\n",
    "from dotenv import load_dotenv\n",
    "from openai import OpenAI\n",
    "from pypdf import PdfReader\n",
    "import gradio as gr"
   ]
  },
  {
   "cell_type": "code",
   "execution_count": null,
   "id": "f54319d5",
   "metadata": {},
   "outputs": [],
   "source": [
    "# 늘 하는 거\n",
    "load_dotenv(override=True)\n",
    "openai = OpenAI()"
   ]
  },
  {
   "cell_type": "code",
   "execution_count": null,
   "id": "e9f95e6c",
   "metadata": {},
   "outputs": [],
   "source": [
    "reader = PdfReader(\"me/InseokPark.pdf\")\n",
    "linkedin = \"\"\n",
    "for page in reader.pages:\n",
    "    text = page.extract_text()\n",
    "    if text:\n",
    "        linkedin += text"
   ]
  },
  {
   "cell_type": "code",
   "execution_count": null,
   "id": "f46af9ae",
   "metadata": {},
   "outputs": [],
   "source": [
    "print(linkedin)"
   ]
  },
  {
   "cell_type": "code",
   "execution_count": null,
   "id": "ef2bff6c",
   "metadata": {},
   "outputs": [],
   "source": [
    "with open(\"me/aboutMe.txt\", \"r\", encoding=\"utf-8\") as f:\n",
    "    summary = f.read()"
   ]
  },
  {
   "cell_type": "code",
   "execution_count": null,
   "id": "893e12ea",
   "metadata": {},
   "outputs": [],
   "source": [
    "name = \"Inseok Park\""
   ]
  },
  {
   "cell_type": "code",
   "execution_count": null,
   "id": "42857d93",
   "metadata": {},
   "outputs": [],
   "source": [
    "system_prompt = f\"You are acting as {name}. You are answering questions on {name}'s website. \\\n",
    "    particularly questions related to {name}'s career, background, skills and experience. \\\n",
    "    Your responsibility is to represent {name} for interactions on the website as faithfully as possible. \\\n",
    "    You are given a summary of {name}'s background and linkedIn profile which you can use to answer questions. \\\n",
    "    Be professional and engaing, as if talking to a potential client or future employer who came across the website. \\\n",
    "    If you don't know the answer, say so.\"\n",
    "\n",
    "system_prompt += f\"\\n\\n## Summary:{summary}\\n\\n## LinkedIn Profile:{linkedin}\\n\\n\"\n",
    "system_prompt += f\"With this context, please chat with the user, always staying in character as {name}\""
   ]
  },
  {
   "cell_type": "code",
   "execution_count": null,
   "id": "57dd9a2c",
   "metadata": {},
   "outputs": [],
   "source": [
    "system_prompt"
   ]
  },
  {
   "cell_type": "code",
   "execution_count": null,
   "id": "9daca1ab",
   "metadata": {},
   "outputs": [],
   "source": [
    "def chat(message, history):\n",
    "    message = [{\"role\":\"system\", \"content\":system_prompt}] + history + [{\"role\":\"user\", \"content\":message}]\n",
    "    response = openai.chat.completions.create(\n",
    "        model=\"gpt-4o-mini\",\n",
    "        messages=message\n",
    "    )\n",
    "    return response.choices[0].message.content"
   ]
  },
  {
   "cell_type": "markdown",
   "id": "64054051",
   "metadata": {},
   "source": []
  },
  {
   "cell_type": "code",
   "execution_count": null,
   "id": "44a96710",
   "metadata": {},
   "outputs": [],
   "source": [
    "gr.ChatInterface(chat, type=\"messages\").launch()"
   ]
  },
  {
   "cell_type": "code",
   "execution_count": null,
   "id": "12389edd",
   "metadata": {},
   "outputs": [],
   "source": []
  }
 ],
 "metadata": {
  "kernelspec": {
   "display_name": ".venv",
   "language": "python",
   "name": "python3"
  },
  "language_info": {
   "codemirror_mode": {
    "name": "ipython",
    "version": 3
   },
   "file_extension": ".py",
   "mimetype": "text/x-python",
   "name": "python",
   "nbconvert_exporter": "python",
   "pygments_lexer": "ipython3",
   "version": "3.13.2"
  }
 },
 "nbformat": 4,
 "nbformat_minor": 5
}
